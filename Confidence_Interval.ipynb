{
  "nbformat": 4,
  "nbformat_minor": 0,
  "metadata": {
    "kernelspec": {
      "display_name": "Python 3",
      "language": "python",
      "name": "python3"
    },
    "language_info": {
      "codemirror_mode": {
        "name": "ipython",
        "version": 3
      },
      "file_extension": ".py",
      "mimetype": "text/x-python",
      "name": "python",
      "nbconvert_exporter": "python",
      "pygments_lexer": "ipython3",
      "version": "3.7.4"
    },
    "colab": {
      "name": "Confidence Interval.ipynb",
      "provenance": [],
      "include_colab_link": true
    }
  },
  "cells": [
    {
      "cell_type": "markdown",
      "metadata": {
        "id": "view-in-github",
        "colab_type": "text"
      },
      "source": [
        "<a href=\"https://colab.research.google.com/github/vidjaydas/DataScience_Python_Code/blob/main/Confidence_Interval.ipynb\" target=\"_parent\"><img src=\"https://colab.research.google.com/assets/colab-badge.svg\" alt=\"Open In Colab\"/></a>"
      ]
    },
    {
      "cell_type": "code",
      "metadata": {
        "id": "iRjXwM84gPL1"
      },
      "source": [
        "from scipy import stats\n",
        "import pandas as pd\n",
        "import numpy as np\n"
      ],
      "execution_count": 1,
      "outputs": []
    },
    {
      "cell_type": "code",
      "metadata": {
        "id": "fCUXCbwGgPMF"
      },
      "source": [
        "glaxo_df=pd.read_csv('glaxo_df.csv')\n"
      ],
      "execution_count": 5,
      "outputs": []
    },
    {
      "cell_type": "code",
      "metadata": {
        "colab": {
          "base_uri": "https://localhost:8080/"
        },
        "id": "wOgFL-wOgPMH",
        "outputId": "f3a10baa-0880-4e75-e343-91ddc77421e0"
      },
      "source": [
        "glaxo_df_ci = stats.norm.interval(0.95,\n",
        "loc = glaxo_df.gain.mean(),\n",
        "scale = glaxo_df.gain.std())\n",
        "print( 'Gain at 95% confidence interval is:', np.round(glaxo_df_ci, 4))"
      ],
      "execution_count": 3,
      "outputs": [
        {
          "output_type": "stream",
          "text": [
            "Gain at 95% confidence interval is: [-0.0258  0.0266]\n"
          ],
          "name": "stdout"
        }
      ]
    },
    {
      "cell_type": "code",
      "metadata": {
        "id": "pF3i1GncgPMK"
      },
      "source": [
        "beml_df=pd.read_csv('beml_df.csv')\n",
        "\n",
        "beml_df_ci = stats. norm.interval(0.95,\n",
        "loc=beml_df.gain.mean(),\n",
        "scale=beml_df.gain.std())"
      ],
      "execution_count": 4,
      "outputs": []
    },
    {
      "cell_type": "code",
      "metadata": {
        "colab": {
          "base_uri": "https://localhost:8080/"
        },
        "id": "RE63y6hxgPMP",
        "outputId": "1170afb7-d592-4cf4-e510-525fd0165e0e"
      },
      "source": [
        "beml_df_ci"
      ],
      "execution_count": null,
      "outputs": [
        {
          "output_type": "execute_result",
          "data": {
            "text/plain": [
              "(-0.051532729680601415, 0.05207422583871588)"
            ]
          },
          "metadata": {
            "tags": []
          },
          "execution_count": 5
        }
      ]
    },
    {
      "cell_type": "code",
      "metadata": {
        "id": "zR0sJnhthUMh"
      },
      "source": [
        ""
      ],
      "execution_count": null,
      "outputs": []
    }
  ]
}