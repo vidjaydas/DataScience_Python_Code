{
  "nbformat": 4,
  "nbformat_minor": 0,
  "metadata": {
    "kernelspec": {
      "display_name": "Python 3",
      "language": "python",
      "name": "python3"
    },
    "language_info": {
      "codemirror_mode": {
        "name": "ipython",
        "version": 3
      },
      "file_extension": ".py",
      "mimetype": "text/x-python",
      "name": "python",
      "nbconvert_exporter": "python",
      "pygments_lexer": "ipython3",
      "version": "3.7.4"
    },
    "colab": {
      "name": "Ridge_Lasso_ElasticNet.ipynb",
      "provenance": [],
      "include_colab_link": true
    }
  },
  "cells": [
    {
      "cell_type": "markdown",
      "metadata": {
        "id": "view-in-github",
        "colab_type": "text"
      },
      "source": [
        "<a href=\"https://colab.research.google.com/github/vidjaydas/DataScience_Python_Code/blob/main/Ridge_Lasso_ElasticNet.ipynb\" target=\"_parent\"><img src=\"https://colab.research.google.com/assets/colab-badge.svg\" alt=\"Open In Colab\"/></a>"
      ]
    },
    {
      "cell_type": "code",
      "metadata": {
        "id": "vqgvHbGSmG4c"
      },
      "source": [
        "import pandas as pd \n",
        "import numpy as np \n",
        "import matplotlib.pyplot as plt \n",
        "from sklearn import datasets \n",
        "from sklearn.model_selection import train_test_split \n",
        "from sklearn.linear_model import LinearRegression"
      ],
      "execution_count": 1,
      "outputs": []
    },
    {
      "cell_type": "code",
      "metadata": {
        "id": "lq1cNViZmG4i"
      },
      "source": [
        "# Loading pre-defined Boston Dataset\n",
        "boston_dataset = datasets.load_boston()\n",
        "#print(boston_dataset.DESCR)"
      ],
      "execution_count": 2,
      "outputs": []
    },
    {
      "cell_type": "code",
      "metadata": {
        "colab": {
          "base_uri": "https://localhost:8080/"
        },
        "id": "P3ldKoF4mG4i",
        "outputId": "a45b3b4a-0786-447d-9499-8e46e92f34c5"
      },
      "source": [
        "#Load the data and divide into X and Y varaiable\n",
        "boston_pd = pd.DataFrame(boston_dataset.data) \n",
        "boston_pd.columns = boston_dataset.feature_names \n",
        "boston_pd_target = np.asarray(boston_dataset.target) \n",
        "boston_pd['House Price'] = pd.Series(boston_pd_target) \n",
        "\n",
        "# input \n",
        "X = boston_pd.iloc[:, :-1] \n",
        "\n",
        "#output \n",
        "Y = boston_pd.iloc[:, -1] \n",
        "\n",
        "print(boston_pd.head()) \n"
      ],
      "execution_count": 3,
      "outputs": [
        {
          "output_type": "stream",
          "text": [
            "      CRIM    ZN  INDUS  CHAS  ...  PTRATIO       B  LSTAT  House Price\n",
            "0  0.00632  18.0   2.31   0.0  ...     15.3  396.90   4.98         24.0\n",
            "1  0.02731   0.0   7.07   0.0  ...     17.8  396.90   9.14         21.6\n",
            "2  0.02729   0.0   7.07   0.0  ...     17.8  392.83   4.03         34.7\n",
            "3  0.03237   0.0   2.18   0.0  ...     18.7  394.63   2.94         33.4\n",
            "4  0.06905   0.0   2.18   0.0  ...     18.7  396.90   5.33         36.2\n",
            "\n",
            "[5 rows x 14 columns]\n"
          ],
          "name": "stdout"
        }
      ]
    },
    {
      "cell_type": "code",
      "metadata": {
        "id": "OVyA-L6JmG4j"
      },
      "source": [
        "X"
      ],
      "execution_count": null,
      "outputs": []
    },
    {
      "cell_type": "code",
      "metadata": {
        "colab": {
          "base_uri": "https://localhost:8080/"
        },
        "id": "6DoxIfUbmG4j",
        "outputId": "04071c48-5637-414c-8e46-4b8d5fbe4f0b"
      },
      "source": [
        "x_train, x_test, y_train, y_test = train_test_split(boston_pd.iloc[:, :-1],\n",
        "                                                    boston_pd.iloc[:, -1],\n",
        "                                                    test_size=0.25)\n",
        "\n",
        "(x_train.shape, y_train.shape,x_test.shape, y_test.shape)"
      ],
      "execution_count": 4,
      "outputs": [
        {
          "output_type": "execute_result",
          "data": {
            "text/plain": [
              "((379, 13), (379,), (127, 13), (127,))"
            ]
          },
          "metadata": {
            "tags": []
          },
          "execution_count": 4
        }
      ]
    },
    {
      "cell_type": "code",
      "metadata": {
        "colab": {
          "base_uri": "https://localhost:8080/"
        },
        "id": "JFN-6G-YmG4j",
        "outputId": "6ee7e252-fe2a-40d0-e718-53bcf5c9001d"
      },
      "source": [
        "# Apply multiple Linear Regression Model \n",
        "lreg = LinearRegression() \n",
        "lreg.fit(x_train, y_train) \n",
        "\n",
        "# Generate Prediction on test set \n",
        "lreg_y_pred = lreg.predict(x_test) \n",
        "\n",
        "# calculating Mean Squared Error (mse) \n",
        "mean_squared_error = np.mean((lreg_y_pred - y_test)**2) \n",
        "print(\"Mean squared Error on test set : \", mean_squared_error) \n",
        "\n",
        "# Putting together the coefficient and their corrsponding variable names \n",
        "lreg_coefficient = pd.DataFrame() \n",
        "lreg_coefficient[\"Columns\"] = x_train.columns \n",
        "lreg_coefficient['Coefficient Estimate'] = pd.Series(lreg.coef_) \n",
        "print(lreg_coefficient) \n"
      ],
      "execution_count": 5,
      "outputs": [
        {
          "output_type": "stream",
          "text": [
            "Mean squared Error on test set :  22.299693830720067\n",
            "    Columns  Coefficient Estimate\n",
            "0      CRIM             -0.100220\n",
            "1        ZN              0.046108\n",
            "2     INDUS              0.061436\n",
            "3      CHAS              3.432457\n",
            "4       NOX            -18.063934\n",
            "5        RM              4.278045\n",
            "6       AGE             -0.012885\n",
            "7       DIS             -1.530613\n",
            "8       RAD              0.263252\n",
            "9       TAX             -0.011757\n",
            "10  PTRATIO             -0.837162\n",
            "11        B              0.008863\n",
            "12    LSTAT             -0.476328\n"
          ],
          "name": "stdout"
        }
      ]
    },
    {
      "cell_type": "code",
      "metadata": {
        "colab": {
          "base_uri": "https://localhost:8080/",
          "height": 296
        },
        "id": "yigYwA9ImG4j",
        "outputId": "be38b358-7695-4411-b773-c0983b2e8170"
      },
      "source": [
        "import seaborn as sns\n",
        "\n",
        "sns.barplot(x='Coefficient Estimate' , y='Columns', data=lreg_coefficient)"
      ],
      "execution_count": 6,
      "outputs": [
        {
          "output_type": "execute_result",
          "data": {
            "text/plain": [
              "<matplotlib.axes._subplots.AxesSubplot at 0x7f179bacba90>"
            ]
          },
          "metadata": {
            "tags": []
          },
          "execution_count": 6
        },
        {
          "output_type": "display_data",
          "data": {
            "image/png": "[encoded data removed]",
            "text/plain": [
              "<Figure size 432x288 with 1 Axes>"
            ]
          },
          "metadata": {
            "tags": [],
            "needs_background": "light"
          }
        }
      ]
    },
    {
      "cell_type": "code",
      "metadata": {
        "colab": {
          "base_uri": "https://localhost:8080/"
        },
        "id": "iD77TN3NmG4k",
        "outputId": "cd0d6beb-5456-445b-9358-35c7139dbfee"
      },
      "source": [
        "# import ridge regression from sklearn library \n",
        "from sklearn.linear_model import Ridge \n",
        "\n",
        "# Train the model \n",
        "ridgeR = Ridge(alpha = 1) \n",
        "ridgeR.fit(x_train, y_train) \n",
        "y_pred = ridgeR.predict(x_test) \n",
        "\n",
        "# calculate mean square error \n",
        "mean_squared_error_ridge = np.mean((y_pred - y_test)**2) \n",
        "print(mean_squared_error_ridge) \n",
        "\n",
        "# get ridge coefficient and print them \n",
        "ridge_coefficient = pd.DataFrame() \n",
        "ridge_coefficient[\"Columns\"]= x_train.columns \n",
        "ridge_coefficient['Coefficient Estimate'] = pd.Series(ridgeR.coef_) \n",
        "print(ridge_coefficient) \n"
      ],
      "execution_count": 7,
      "outputs": [
        {
          "output_type": "stream",
          "text": [
            "22.38835269997301\n",
            "    Columns  Coefficient Estimate\n",
            "0      CRIM             -0.092290\n",
            "1        ZN              0.047152\n",
            "2     INDUS              0.027701\n",
            "3      CHAS              3.233849\n",
            "4       NOX             -9.796252\n",
            "5        RM              4.346767\n",
            "6       AGE             -0.020480\n",
            "7       DIS             -1.405614\n",
            "8       RAD              0.248195\n",
            "9       TAX             -0.012812\n",
            "10  PTRATIO             -0.733160\n",
            "11        B              0.009255\n",
            "12    LSTAT             -0.488127\n"
          ],
          "name": "stdout"
        }
      ]
    },
    {
      "cell_type": "markdown",
      "metadata": {
        "id": "aBeZmsvRmG4k"
      },
      "source": [
        "#### # import Lasso regression from sklearn library \n",
        "\n"
      ]
    },
    {
      "cell_type": "code",
      "metadata": {
        "colab": {
          "base_uri": "https://localhost:8080/"
        },
        "id": "lfo8kiOMmG4k",
        "outputId": "fd91621c-75c5-49d4-9bdf-17316103d520"
      },
      "source": [
        "from sklearn.linear_model import Lasso \n",
        "\n",
        "# Train the model \n",
        "lasso = Lasso(alpha = 1) \n",
        "lasso.fit(x_train, y_train) \n",
        "y_pred1 = lasso.predict(x_test) \n",
        "\n",
        "# Calculate Mean Squared Error \n",
        "mean_squared_error = np.mean((y_pred1 - y_test)**2) \n",
        "print(\"Mean squared error on test set\", mean_squared_error) \n",
        "lasso_coeff = pd.DataFrame() \n",
        "lasso_coeff[\"Columns\"] = x_train.columns \n",
        "lasso_coeff['Coefficient Estimate'] = pd.Series(lasso.coef_) \n",
        "\n",
        "print(lasso_coeff) "
      ],
      "execution_count": 8,
      "outputs": [
        {
          "output_type": "stream",
          "text": [
            "Mean squared error on test set 24.203817651927253\n",
            "    Columns  Coefficient Estimate\n",
            "0      CRIM             -0.046553\n",
            "1        ZN              0.046747\n",
            "2     INDUS              0.000000\n",
            "3      CHAS              0.000000\n",
            "4       NOX             -0.000000\n",
            "5        RM              1.238078\n",
            "6       AGE              0.009002\n",
            "7       DIS             -0.765078\n",
            "8       RAD              0.222139\n",
            "9       TAX             -0.014390\n",
            "10  PTRATIO             -0.578927\n",
            "11        B              0.008045\n",
            "12    LSTAT             -0.738064\n"
          ],
          "name": "stdout"
        }
      ]
    },
    {
      "cell_type": "code",
      "metadata": {
        "colab": {
          "base_uri": "https://localhost:8080/",
          "height": 469
        },
        "id": "LhlizoGDmG4l",
        "outputId": "72f48367-d2e2-4b9e-8f23-c1d3e9551087"
      },
      "source": [
        "# import model \n",
        "from sklearn.linear_model import ElasticNet \n",
        "\n",
        "# Train the model \n",
        "e_net = ElasticNet(alpha = .4,l1_ratio=.5) \n",
        "e_net.fit(x_train, y_train) \n",
        "\n",
        "# calculate the prediction and mean square error \n",
        "y_pred_elastic = e_net.predict(x_test) \n",
        "mean_squared_error = np.mean((y_pred_elastic - y_test)**2) \n",
        "print(\"Mean Squared Error on test set\", mean_squared_error) \n",
        "\n",
        "e_net_coeff = pd.DataFrame() \n",
        "e_net_coeff[\"Columns\"] = x_train.columns \n",
        "e_net_coeff['Coefficient Estimate'] = pd.Series(e_net.coef_) \n",
        "e_net_coeff \n"
      ],
      "execution_count": 9,
      "outputs": [
        {
          "output_type": "stream",
          "text": [
            "Mean Squared Error on test set 21.972167905420324\n"
          ],
          "name": "stdout"
        },
        {
          "output_type": "execute_result",
          "data": {
            "text/html": [
              "<div>\n",
              "<style scoped>\n",
              "    .dataframe tbody tr th:only-of-type {\n",
              "        vertical-align: middle;\n",
              "    }\n",
              "\n",
              "    .dataframe tbody tr th {\n",
              "        vertical-align: top;\n",
              "    }\n",
              "\n",
              "    .dataframe thead th {\n",
              "        text-align: right;\n",
              "    }\n",
              "</style>\n",
              "<table border=\"1\" class=\"dataframe\">\n",
              "  <thead>\n",
              "    <tr style=\"text-align: right;\">\n",
              "      <th></th>\n",
              "      <th>Columns</th>\n",
              "      <th>Coefficient Estimate</th>\n",
              "    </tr>\n",
              "  </thead>\n",
              "  <tbody>\n",
              "    <tr>\n",
              "      <th>0</th>\n",
              "      <td>CRIM</td>\n",
              "      <td>-0.086087</td>\n",
              "    </tr>\n",
              "    <tr>\n",
              "      <th>1</th>\n",
              "      <td>ZN</td>\n",
              "      <td>0.054349</td>\n",
              "    </tr>\n",
              "    <tr>\n",
              "      <th>2</th>\n",
              "      <td>INDUS</td>\n",
              "      <td>-0.000000</td>\n",
              "    </tr>\n",
              "    <tr>\n",
              "      <th>3</th>\n",
              "      <td>CHAS</td>\n",
              "      <td>0.099379</td>\n",
              "    </tr>\n",
              "    <tr>\n",
              "      <th>4</th>\n",
              "      <td>NOX</td>\n",
              "      <td>-0.000000</td>\n",
              "    </tr>\n",
              "    <tr>\n",
              "      <th>5</th>\n",
              "      <td>RM</td>\n",
              "      <td>2.189960</td>\n",
              "    </tr>\n",
              "    <tr>\n",
              "      <th>6</th>\n",
              "      <td>AGE</td>\n",
              "      <td>-0.003226</td>\n",
              "    </tr>\n",
              "    <tr>\n",
              "      <th>7</th>\n",
              "      <td>DIS</td>\n",
              "      <td>-1.085155</td>\n",
              "    </tr>\n",
              "    <tr>\n",
              "      <th>8</th>\n",
              "      <td>RAD</td>\n",
              "      <td>0.290812</td>\n",
              "    </tr>\n",
              "    <tr>\n",
              "      <th>9</th>\n",
              "      <td>TAX</td>\n",
              "      <td>-0.016758</td>\n",
              "    </tr>\n",
              "    <tr>\n",
              "      <th>10</th>\n",
              "      <td>PTRATIO</td>\n",
              "      <td>-0.688936</td>\n",
              "    </tr>\n",
              "    <tr>\n",
              "      <th>11</th>\n",
              "      <td>B</td>\n",
              "      <td>0.008813</td>\n",
              "    </tr>\n",
              "    <tr>\n",
              "      <th>12</th>\n",
              "      <td>LSTAT</td>\n",
              "      <td>-0.674028</td>\n",
              "    </tr>\n",
              "  </tbody>\n",
              "</table>\n",
              "</div>"
            ],
            "text/plain": [
              "    Columns  Coefficient Estimate\n",
              "0      CRIM             -0.086087\n",
              "1        ZN              0.054349\n",
              "2     INDUS             -0.000000\n",
              "3      CHAS              0.099379\n",
              "4       NOX             -0.000000\n",
              "5        RM              2.189960\n",
              "6       AGE             -0.003226\n",
              "7       DIS             -1.085155\n",
              "8       RAD              0.290812\n",
              "9       TAX             -0.016758\n",
              "10  PTRATIO             -0.688936\n",
              "11        B              0.008813\n",
              "12    LSTAT             -0.674028"
            ]
          },
          "metadata": {
            "tags": []
          },
          "execution_count": 9
        }
      ]
    },
    {
      "cell_type": "code",
      "metadata": {
        "id": "x2_b4kW8mG4l"
      },
      "source": [
        ""
      ],
      "execution_count": 9,
      "outputs": []
    }
  ]
}